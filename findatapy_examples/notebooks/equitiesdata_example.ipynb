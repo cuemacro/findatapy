{
 "cells": [
  {
   "cell_type": "code",
   "execution_count": 1,
   "metadata": {},
   "outputs": [],
   "source": [
    "%matplotlib inline\n",
    "from findatapy.market import Market, MarketDataRequest, MarketDataGenerator"
   ]
  },
  {
   "cell_type": "code",
   "execution_count": 2,
   "metadata": {},
   "outputs": [],
   "source": [
    "from findatapy.util.dataconstants import DataConstants"
   ]
  },
  {
   "cell_type": "code",
   "execution_count": 3,
   "metadata": {},
   "outputs": [],
   "source": []
  },
  {
   "cell_type": "markdown",
   "metadata": {},
   "source": [
    "# Yahoo data "
   ]
  },
  {
   "cell_type": "code",
   "execution_count": 4,
   "metadata": {},
   "outputs": [],
   "source": [
    "market = Market(market_data_generator=MarketDataGenerator())"
   ]
  },
  {
   "cell_type": "code",
   "execution_count": 5,
   "metadata": {},
   "outputs": [],
   "source": [
    "md_request = MarketDataRequest(\n",
    "        start_date=\"decade\",            # start date\n",
    "        data_source='yahoo',     # use Bloomberg as data source\n",
    "        tickers=['Apple'], # ticker (findatapy)\n",
    "        fields=['close'],               # which fields to download\n",
    "        vendor_tickers=['aapl'],   # ticker (Alpha Vantage)\n",
    "        vendor_fields=['Close'])        # which Bloomberg fields to download)"
   ]
  },
  {
   "cell_type": "code",
   "execution_count": 6,
   "metadata": {},
   "outputs": [
    {
     "name": "stdout",
     "output_type": "stream",
     "text": [
      "2019-11-02 12:24:46,873 - findatapy.market.datavendorweb - INFO - Request Yahoo data\n",
      "2019-11-02 12:24:47,134 - numexpr.utils - INFO - NumExpr defaulting to 8 threads.\n",
      "[*********************100%***********************]  1 of 1 completed\n",
      "[*********************100%***********************]  1 of 1 completed\n",
      "2019-11-02 12:24:47,347 - findatapy.market.datavendorweb - INFO - Completed request from Yahoo.\n"
     ]
    },
    {
     "name": "stderr",
     "output_type": "stream",
     "text": [
      "/Users/dkn22/Documents/Git/findatapy/findatapy/market/ioengine.py:264: FutureWarning: to_msgpack is deprecated and will be removed in a future version.\n",
      "It is recommended to use pyarrow for on-the-wire transmission of pandas objects.\n",
      "  r.set(fname, data_frame.to_msgpack(compress='blosc'))\n"
     ]
    }
   ],
   "source": [
    "df = market.fetch_market(md_request)"
   ]
  },
  {
   "cell_type": "code",
   "execution_count": 7,
   "metadata": {},
   "outputs": [
    {
     "data": {
      "text/html": [
       "<div>\n",
       "<style scoped>\n",
       "    .dataframe tbody tr th:only-of-type {\n",
       "        vertical-align: middle;\n",
       "    }\n",
       "\n",
       "    .dataframe tbody tr th {\n",
       "        vertical-align: top;\n",
       "    }\n",
       "\n",
       "    .dataframe thead th {\n",
       "        text-align: right;\n",
       "    }\n",
       "</style>\n",
       "<table border=\"1\" class=\"dataframe\">\n",
       "  <thead>\n",
       "    <tr style=\"text-align: right;\">\n",
       "      <th></th>\n",
       "      <th>Apple.close</th>\n",
       "    </tr>\n",
       "    <tr>\n",
       "      <th>Date</th>\n",
       "      <th></th>\n",
       "    </tr>\n",
       "  </thead>\n",
       "  <tbody>\n",
       "    <tr>\n",
       "      <td>2009-11-05</td>\n",
       "      <td>27.718571</td>\n",
       "    </tr>\n",
       "    <tr>\n",
       "      <td>2009-11-06</td>\n",
       "      <td>27.762857</td>\n",
       "    </tr>\n",
       "    <tr>\n",
       "      <td>2009-11-09</td>\n",
       "      <td>28.780001</td>\n",
       "    </tr>\n",
       "    <tr>\n",
       "      <td>2009-11-10</td>\n",
       "      <td>28.997143</td>\n",
       "    </tr>\n",
       "    <tr>\n",
       "      <td>2009-11-11</td>\n",
       "      <td>29.035715</td>\n",
       "    </tr>\n",
       "    <tr>\n",
       "      <td>...</td>\n",
       "      <td>...</td>\n",
       "    </tr>\n",
       "    <tr>\n",
       "      <td>2019-10-28</td>\n",
       "      <td>249.050003</td>\n",
       "    </tr>\n",
       "    <tr>\n",
       "      <td>2019-10-29</td>\n",
       "      <td>243.289993</td>\n",
       "    </tr>\n",
       "    <tr>\n",
       "      <td>2019-10-30</td>\n",
       "      <td>243.259995</td>\n",
       "    </tr>\n",
       "    <tr>\n",
       "      <td>2019-10-31</td>\n",
       "      <td>248.759995</td>\n",
       "    </tr>\n",
       "    <tr>\n",
       "      <td>2019-11-01</td>\n",
       "      <td>255.820007</td>\n",
       "    </tr>\n",
       "  </tbody>\n",
       "</table>\n",
       "<p>2515 rows × 1 columns</p>\n",
       "</div>"
      ],
      "text/plain": [
       "            Apple.close\n",
       "Date                   \n",
       "2009-11-05    27.718571\n",
       "2009-11-06    27.762857\n",
       "2009-11-09    28.780001\n",
       "2009-11-10    28.997143\n",
       "2009-11-11    29.035715\n",
       "...                 ...\n",
       "2019-10-28   249.050003\n",
       "2019-10-29   243.289993\n",
       "2019-10-30   243.259995\n",
       "2019-10-31   248.759995\n",
       "2019-11-01   255.820007\n",
       "\n",
       "[2515 rows x 1 columns]"
      ]
     },
     "execution_count": 7,
     "metadata": {},
     "output_type": "execute_result"
    }
   ],
   "source": [
    "df"
   ]
  },
  {
   "cell_type": "code",
   "execution_count": 8,
   "metadata": {},
   "outputs": [
    {
     "data": {
      "text/plain": [
       "<matplotlib.axes._subplots.AxesSubplot at 0x1a24919fd0>"
      ]
     },
     "execution_count": 8,
     "metadata": {},
     "output_type": "execute_result"
    },
    {
     "data": {
      "image/png": "[encoded data removed]",
      "text/plain": [
       "<Figure size 1080x576 with 1 Axes>"
      ]
     },
     "metadata": {
      "needs_background": "light"
     },
     "output_type": "display_data"
    }
   ],
   "source": [
    "df['Apple.close'].pct_change().rolling(30).mean().plot(grid=True, figsize=(15,8))"
   ]
  },
  {
   "cell_type": "markdown",
   "metadata": {},
   "source": [
    "# Quandl"
   ]
  },
  {
   "cell_type": "code",
   "execution_count": 3,
   "metadata": {},
   "outputs": [],
   "source": [
    "market = Market(market_data_generator=MarketDataGenerator())"
   ]
  },
  {
   "cell_type": "code",
   "execution_count": 4,
   "metadata": {},
   "outputs": [],
   "source": [
    "md_request = MarketDataRequest(\n",
    "        start_date=\"decade\",            # start date\n",
    "        data_source='quandl',     # use Bloomberg as data source\n",
    "        tickers=['APPL'], # ticker (findatapy)\n",
    "        fields=['close'],               # which fields to download\n",
    "        vendor_tickers=['APPL'],   # ticker (Alpha Vantage)\n",
    "        vendor_fields=['Close'])        # which Bloomberg fields to download)"
   ]
  },
  {
   "cell_type": "code",
   "execution_count": 5,
   "metadata": {
    "scrolled": true
   },
   "outputs": [
    {
     "name": "stdout",
     "output_type": "stream",
     "text": [
      "2019-11-02 14:12:24,753 - findatapy.market.datavendorweb - INFO - Request Quandl data\n",
      "2019-11-02 14:12:24,754 - findatapy.market.datavendorweb - ERROR - The tickers ['APPL'] do not exist on Quandl.\n",
      "'NoneType' object has no attribute 'index'\n",
      "2019-11-02 14:12:24,778 - findatapy.market.marketdatagenerator - WARNING - No data returned for ['APPL']\n"
     ]
    }
   ],
   "source": [
    "df = market.fetch_market(md_request)"
   ]
  },
  {
   "cell_type": "code",
   "execution_count": 13,
   "metadata": {},
   "outputs": [
    {
     "data": {
      "text/html": [
       "<div>\n",
       "<style scoped>\n",
       "    .dataframe tbody tr th:only-of-type {\n",
       "        vertical-align: middle;\n",
       "    }\n",
       "\n",
       "    .dataframe tbody tr th {\n",
       "        vertical-align: top;\n",
       "    }\n",
       "\n",
       "    .dataframe thead th {\n",
       "        text-align: right;\n",
       "    }\n",
       "</style>\n",
       "<table border=\"1\" class=\"dataframe\">\n",
       "  <thead>\n",
       "    <tr style=\"text-align: right;\">\n",
       "      <th></th>\n",
       "      <th>NAURU_CURRENT_ACCOUNT_BALANCE.close</th>\n",
       "    </tr>\n",
       "    <tr>\n",
       "      <th>Date</th>\n",
       "      <th></th>\n",
       "    </tr>\n",
       "  </thead>\n",
       "  <tbody>\n",
       "    <tr>\n",
       "      <td>2014-12-31</td>\n",
       "      <td>-13.479</td>\n",
       "    </tr>\n",
       "    <tr>\n",
       "      <td>2015-12-31</td>\n",
       "      <td>-9.486</td>\n",
       "    </tr>\n",
       "    <tr>\n",
       "      <td>2016-12-31</td>\n",
       "      <td>1.711</td>\n",
       "    </tr>\n",
       "    <tr>\n",
       "      <td>2017-12-31</td>\n",
       "      <td>4.120</td>\n",
       "    </tr>\n",
       "    <tr>\n",
       "      <td>2018-12-31</td>\n",
       "      <td>-7.692</td>\n",
       "    </tr>\n",
       "  </tbody>\n",
       "</table>\n",
       "</div>"
      ],
      "text/plain": [
       "            NAURU_CURRENT_ACCOUNT_BALANCE.close\n",
       "Date                                           \n",
       "2014-12-31                              -13.479\n",
       "2015-12-31                               -9.486\n",
       "2016-12-31                                1.711\n",
       "2017-12-31                                4.120\n",
       "2018-12-31                               -7.692"
      ]
     },
     "execution_count": 13,
     "metadata": {},
     "output_type": "execute_result"
    }
   ],
   "source": [
    "df.tail()"
   ]
  },
  {
   "cell_type": "markdown",
   "metadata": {},
   "source": [
    "# boe"
   ]
  },
  {
   "cell_type": "code",
   "execution_count": 20,
   "metadata": {},
   "outputs": [],
   "source": [
    "import datetime\n",
    "boe_url = \"http://www.bankofengland.co.uk/boeapps/iadb/fromshowcolumns.asp?csv.x=yes&Datefrom={start_date}&Dateto={end_date}&SeriesCodes={tickers}&CSVF=TN&UsingCodes=Y&VPD=Y&VFD=N\"\n",
    "start_time = datetime.date(2010, 1, 7).strftime(\"%d/%b/%Y\")\n",
    "end_time = datetime.date(2019, 10, 22).strftime(\"%d/%b/%Y\")"
   ]
  },
  {
   "cell_type": "code",
   "execution_count": 23,
   "metadata": {},
   "outputs": [
    {
     "data": {
      "text/html": [
       "<div>\n",
       "<style scoped>\n",
       "    .dataframe tbody tr th:only-of-type {\n",
       "        vertical-align: middle;\n",
       "    }\n",
       "\n",
       "    .dataframe tbody tr th {\n",
       "        vertical-align: top;\n",
       "    }\n",
       "\n",
       "    .dataframe thead th {\n",
       "        text-align: right;\n",
       "    }\n",
       "</style>\n",
       "<table border=\"1\" class=\"dataframe\">\n",
       "  <thead>\n",
       "    <tr style=\"text-align: right;\">\n",
       "      <th></th>\n",
       "      <th>DATE</th>\n",
       "      <th>IUMBV34</th>\n",
       "      <th>IUMBV37</th>\n",
       "      <th>IUMBV42</th>\n",
       "      <th>IUMBV45</th>\n",
       "    </tr>\n",
       "  </thead>\n",
       "  <tbody>\n",
       "    <tr>\n",
       "      <td>0</td>\n",
       "      <td>31 Jan 2010</td>\n",
       "      <td>3.97</td>\n",
       "      <td>4.64</td>\n",
       "      <td>5.56</td>\n",
       "      <td>..</td>\n",
       "    </tr>\n",
       "    <tr>\n",
       "      <td>1</td>\n",
       "      <td>28 Feb 2010</td>\n",
       "      <td>3.88</td>\n",
       "      <td>4.68</td>\n",
       "      <td>5.50</td>\n",
       "      <td>..</td>\n",
       "    </tr>\n",
       "    <tr>\n",
       "      <td>2</td>\n",
       "      <td>31 Mar 2010</td>\n",
       "      <td>3.92</td>\n",
       "      <td>4.68</td>\n",
       "      <td>5.50</td>\n",
       "      <td>..</td>\n",
       "    </tr>\n",
       "    <tr>\n",
       "      <td>3</td>\n",
       "      <td>30 Apr 2010</td>\n",
       "      <td>3.82</td>\n",
       "      <td>4.65</td>\n",
       "      <td>5.50</td>\n",
       "      <td>..</td>\n",
       "    </tr>\n",
       "    <tr>\n",
       "      <td>4</td>\n",
       "      <td>31 May 2010</td>\n",
       "      <td>3.78</td>\n",
       "      <td>4.56</td>\n",
       "      <td>5.38</td>\n",
       "      <td>..</td>\n",
       "    </tr>\n",
       "    <tr>\n",
       "      <td>...</td>\n",
       "      <td>...</td>\n",
       "      <td>...</td>\n",
       "      <td>...</td>\n",
       "      <td>...</td>\n",
       "      <td>...</td>\n",
       "    </tr>\n",
       "    <tr>\n",
       "      <td>112</td>\n",
       "      <td>31 May 2019</td>\n",
       "      <td>1.65</td>\n",
       "      <td>1.79</td>\n",
       "      <td>1.99</td>\n",
       "      <td>2.57</td>\n",
       "    </tr>\n",
       "    <tr>\n",
       "      <td>113</td>\n",
       "      <td>30 Jun 2019</td>\n",
       "      <td>1.64</td>\n",
       "      <td>1.77</td>\n",
       "      <td>1.97</td>\n",
       "      <td>2.59</td>\n",
       "    </tr>\n",
       "    <tr>\n",
       "      <td>114</td>\n",
       "      <td>31 Jul 2019</td>\n",
       "      <td>1.63</td>\n",
       "      <td>1.76</td>\n",
       "      <td>1.94</td>\n",
       "      <td>2.6</td>\n",
       "    </tr>\n",
       "    <tr>\n",
       "      <td>115</td>\n",
       "      <td>31 Aug 2019</td>\n",
       "      <td>1.61</td>\n",
       "      <td>1.74</td>\n",
       "      <td>1.90</td>\n",
       "      <td>2.62</td>\n",
       "    </tr>\n",
       "    <tr>\n",
       "      <td>116</td>\n",
       "      <td>30 Sep 2019</td>\n",
       "      <td>1.56</td>\n",
       "      <td>1.66</td>\n",
       "      <td>1.80</td>\n",
       "      <td>2.65</td>\n",
       "    </tr>\n",
       "  </tbody>\n",
       "</table>\n",
       "<p>117 rows × 5 columns</p>\n",
       "</div>"
      ],
      "text/plain": [
       "            DATE  IUMBV34  IUMBV37  IUMBV42 IUMBV45\n",
       "0    31 Jan 2010     3.97     4.64     5.56      ..\n",
       "1    28 Feb 2010     3.88     4.68     5.50      ..\n",
       "2    31 Mar 2010     3.92     4.68     5.50      ..\n",
       "3    30 Apr 2010     3.82     4.65     5.50      ..\n",
       "4    31 May 2010     3.78     4.56     5.38      ..\n",
       "..           ...      ...      ...      ...     ...\n",
       "112  31 May 2019     1.65     1.79     1.99    2.57\n",
       "113  30 Jun 2019     1.64     1.77     1.97    2.59\n",
       "114  31 Jul 2019     1.63     1.76     1.94     2.6\n",
       "115  31 Aug 2019     1.61     1.74     1.90    2.62\n",
       "116  30 Sep 2019     1.56     1.66     1.80    2.65\n",
       "\n",
       "[117 rows x 5 columns]"
      ]
     },
     "execution_count": 23,
     "metadata": {},
     "output_type": "execute_result"
    }
   ],
   "source": [
    "import pandas as pd\n",
    "pd.read_csv(boe_url.format(start_date=start_time, end_date=end_time,tickers='IUMBV34,IUMBV37,IUMBV42,IUMBV45'))"
   ]
  },
  {
   "cell_type": "code",
   "execution_count": 26,
   "metadata": {},
   "outputs": [],
   "source": [
    "#%load_ext autoreload\n",
    "%autoreload 2\n",
    "from findatapy.market.datavendorweb import DataVendorYahoo, DataVendorBOE"
   ]
  },
  {
   "cell_type": "code",
   "execution_count": 27,
   "metadata": {},
   "outputs": [],
   "source": [
    "md_request = MarketDataRequest(\n",
    "        start_date=\"decade\",            # start date\n",
    "        data_source='boe',     # use Bloomberg as data source\n",
    "        tickers=['IUMBV34', 'IUMBV37'], # ticker (findatapy)\n",
    "        fields=['close'],               # which fields to download\n",
    "        vendor_tickers=['IUMBV34', 'IUMBV37'],   # ticker (Alpha Vantage)\n",
    "        vendor_fields=['Close'])        # which Bloomberg fields to download)"
   ]
  },
  {
   "cell_type": "code",
   "execution_count": 28,
   "metadata": {},
   "outputs": [],
   "source": [
    "boe = DataVendorBOE()"
   ]
  },
  {
   "cell_type": "code",
   "execution_count": 29,
   "metadata": {},
   "outputs": [
    {
     "name": "stdout",
     "output_type": "stream",
     "text": [
      "2019-11-02 14:07:43,529 - findatapy.market.datavendorweb - INFO - Request BOE data\n",
      "2019-11-02 14:07:44,722 - findatapy.market.datavendorweb - INFO - Completed request from BOE.\n"
     ]
    },
    {
     "data": {
      "text/html": [
       "<div>\n",
       "<style scoped>\n",
       "    .dataframe tbody tr th:only-of-type {\n",
       "        vertical-align: middle;\n",
       "    }\n",
       "\n",
       "    .dataframe tbody tr th {\n",
       "        vertical-align: top;\n",
       "    }\n",
       "\n",
       "    .dataframe thead th {\n",
       "        text-align: right;\n",
       "    }\n",
       "</style>\n",
       "<table border=\"1\" class=\"dataframe\">\n",
       "  <thead>\n",
       "    <tr style=\"text-align: right;\">\n",
       "      <th></th>\n",
       "      <th>IUMBV34.close</th>\n",
       "      <th>IUMBV37.close</th>\n",
       "    </tr>\n",
       "    <tr>\n",
       "      <th>Date</th>\n",
       "      <th></th>\n",
       "      <th></th>\n",
       "    </tr>\n",
       "  </thead>\n",
       "  <tbody>\n",
       "    <tr>\n",
       "      <td>30 Nov 2009</td>\n",
       "      <td>4.10</td>\n",
       "      <td>4.88</td>\n",
       "    </tr>\n",
       "    <tr>\n",
       "      <td>31 Dec 2009</td>\n",
       "      <td>4.05</td>\n",
       "      <td>4.84</td>\n",
       "    </tr>\n",
       "    <tr>\n",
       "      <td>31 Jan 2010</td>\n",
       "      <td>3.97</td>\n",
       "      <td>4.64</td>\n",
       "    </tr>\n",
       "    <tr>\n",
       "      <td>28 Feb 2010</td>\n",
       "      <td>3.88</td>\n",
       "      <td>4.68</td>\n",
       "    </tr>\n",
       "    <tr>\n",
       "      <td>31 Mar 2010</td>\n",
       "      <td>3.92</td>\n",
       "      <td>4.68</td>\n",
       "    </tr>\n",
       "    <tr>\n",
       "      <td>...</td>\n",
       "      <td>...</td>\n",
       "      <td>...</td>\n",
       "    </tr>\n",
       "    <tr>\n",
       "      <td>31 May 2019</td>\n",
       "      <td>1.65</td>\n",
       "      <td>1.79</td>\n",
       "    </tr>\n",
       "    <tr>\n",
       "      <td>30 Jun 2019</td>\n",
       "      <td>1.64</td>\n",
       "      <td>1.77</td>\n",
       "    </tr>\n",
       "    <tr>\n",
       "      <td>31 Jul 2019</td>\n",
       "      <td>1.63</td>\n",
       "      <td>1.76</td>\n",
       "    </tr>\n",
       "    <tr>\n",
       "      <td>31 Aug 2019</td>\n",
       "      <td>1.61</td>\n",
       "      <td>1.74</td>\n",
       "    </tr>\n",
       "    <tr>\n",
       "      <td>30 Sep 2019</td>\n",
       "      <td>1.56</td>\n",
       "      <td>1.66</td>\n",
       "    </tr>\n",
       "  </tbody>\n",
       "</table>\n",
       "<p>119 rows × 2 columns</p>\n",
       "</div>"
      ],
      "text/plain": [
       "             IUMBV34.close  IUMBV37.close\n",
       "Date                                     \n",
       "30 Nov 2009           4.10           4.88\n",
       "31 Dec 2009           4.05           4.84\n",
       "31 Jan 2010           3.97           4.64\n",
       "28 Feb 2010           3.88           4.68\n",
       "31 Mar 2010           3.92           4.68\n",
       "...                    ...            ...\n",
       "31 May 2019           1.65           1.79\n",
       "30 Jun 2019           1.64           1.77\n",
       "31 Jul 2019           1.63           1.76\n",
       "31 Aug 2019           1.61           1.74\n",
       "30 Sep 2019           1.56           1.66\n",
       "\n",
       "[119 rows x 2 columns]"
      ]
     },
     "execution_count": 29,
     "metadata": {},
     "output_type": "execute_result"
    }
   ],
   "source": [
    "boe.load_ticker(md_request)"
   ]
  },
  {
   "cell_type": "code",
   "execution_count": 21,
   "metadata": {},
   "outputs": [
    {
     "data": {
      "text/plain": [
       "['Close', 'Close', 'Close', 'Close', 'Close']"
      ]
     },
     "execution_count": 21,
     "metadata": {},
     "output_type": "execute_result"
    }
   ],
   "source": [
    "md_request.vendor_fields * 5"
   ]
  },
  {
   "cell_type": "markdown",
   "metadata": {},
   "source": [
    "# ONS "
   ]
  },
  {
   "cell_type": "code",
   "execution_count": 6,
   "metadata": {},
   "outputs": [],
   "source": [
    "import requests, json"
   ]
  },
  {
   "cell_type": "code",
   "execution_count": 10,
   "metadata": {},
   "outputs": [],
   "source": [
    "payload = {\n",
    "    \"dataset\": {\n",
    "        \"id\": \"cpih01\",\n",
    "        \"edition\": \"time-series\",\n",
    "        \"version\": \"6\"\n",
    "    },\n",
    "    \"dimensions\": [\n",
    "        {\n",
    "            \"name\": \"geography\",\n",
    "            \"options\": [\n",
    "                \"K02000001\"\n",
    "            ]\n",
    "        }\n",
    "    ]\n",
    "}"
   ]
  },
  {
   "cell_type": "code",
   "execution_count": 9,
   "metadata": {},
   "outputs": [],
   "source": [
    "base_url = \"https://api.beta.ons.gov.uk/v1\""
   ]
  },
  {
   "cell_type": "code",
   "execution_count": 11,
   "metadata": {},
   "outputs": [
    {
     "data": {
      "text/plain": [
       "<Response [404]>"
      ]
     },
     "execution_count": 11,
     "metadata": {},
     "output_type": "execute_result"
    }
   ],
   "source": [
    "requests.get(base_url, params=payload)"
   ]
  },
  {
   "cell_type": "code",
   "execution_count": null,
   "metadata": {},
   "outputs": [],
   "source": []
  }
 ],
 "metadata": {
  "kernelspec": {
   "display_name": "Python 3",
   "language": "python",
   "name": "python3"
  },
  "language_info": {
   "codemirror_mode": {
    "name": "ipython",
    "version": 3
   },
   "file_extension": ".py",
   "mimetype": "text/x-python",
   "name": "python",
   "nbconvert_exporter": "python",
   "pygments_lexer": "ipython3",
   "version": "3.7.4"
  }
 },
 "nbformat": 4,
 "nbformat_minor": 1
}
